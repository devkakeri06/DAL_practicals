{
  "nbformat": 4,
  "nbformat_minor": 0,
  "metadata": {
    "colab": {
      "name": "DAL_1.ipynb",
      "provenance": [],
      "collapsed_sections": [],
      "authorship_tag": "ABX9TyPOkNsHihpWAjO8ixFvenfg",
      "include_colab_link": true
    },
    "kernelspec": {
      "name": "python3",
      "display_name": "Python 3"
    },
    "language_info": {
      "name": "python"
    }
  },
  "cells": [
    {
      "cell_type": "markdown",
      "metadata": {
        "id": "view-in-github",
        "colab_type": "text"
      },
      "source": [
        "<a href=\"https://colab.research.google.com/github/devkakeri06/DAL_practicals/blob/main/DAL_1.ipynb\" target=\"_parent\"><img src=\"https://colab.research.google.com/assets/colab-badge.svg\" alt=\"Open In Colab\"/></a>"
      ]
    },
    {
      "cell_type": "markdown",
      "source": [
        "**TASK 1**"
      ],
      "metadata": {
        "id": "t5_BTv3RC94S"
      }
    },
    {
      "cell_type": "code",
      "source": [
        "print(\"Hello World!\")"
      ],
      "metadata": {
        "colab": {
          "base_uri": "https://localhost:8080/"
        },
        "id": "4zc2TyP9DF-B",
        "outputId": "86e21c11-eabc-4280-a3b4-8387e832b63a"
      },
      "execution_count": 25,
      "outputs": [
        {
          "output_type": "stream",
          "name": "stdout",
          "text": [
            "Hello World!\n"
          ]
        }
      ]
    },
    {
      "cell_type": "markdown",
      "source": [
        "**TASK 2**"
      ],
      "metadata": {
        "id": "yvWRwKfaDSpL"
      }
    },
    {
      "cell_type": "code",
      "source": [
        "a=2\n",
        "b=7\n",
        "d=a+b\n",
        "e=b-a\n",
        "f=a*b\n",
        "g=b/a\n",
        "print(d)\n",
        "print(e)\n",
        "print(f)\n",
        "print(g)\n"
      ],
      "metadata": {
        "colab": {
          "base_uri": "https://localhost:8080/"
        },
        "id": "-gtKzSfyDaOU",
        "outputId": "893d143f-01b4-4784-a5eb-9bd24f2369d7"
      },
      "execution_count": 26,
      "outputs": [
        {
          "output_type": "stream",
          "name": "stdout",
          "text": [
            "9\n",
            "5\n",
            "14\n",
            "3.5\n"
          ]
        }
      ]
    },
    {
      "cell_type": "markdown",
      "source": [
        "**TASK 3**"
      ],
      "metadata": {
        "id": "q264ykaYDqXb"
      }
    },
    {
      "cell_type": "code",
      "source": [
        "str=\"Hello World!\"\n",
        "print(len(str))\n",
        "print(str[1:5])\n",
        "print(str.lower())\n",
        "print(str.upper())\n",
        "print(str.replace('World','Everyone'))\n",
        "print(str.split())\n",
        "\n"
      ],
      "metadata": {
        "colab": {
          "base_uri": "https://localhost:8080/"
        },
        "id": "60tgs1fHDs7K",
        "outputId": "37e4b7c3-dcb0-4b49-a577-2f425385a9ce"
      },
      "execution_count": 27,
      "outputs": [
        {
          "output_type": "stream",
          "name": "stdout",
          "text": [
            "12\n",
            "ello\n",
            "hello world!\n",
            "HELLO WORLD!\n",
            "Hello Everyone!\n",
            "['Hello', 'World!']\n"
          ]
        }
      ]
    },
    {
      "cell_type": "markdown",
      "source": [
        "**TASK 4**"
      ],
      "metadata": {
        "id": "AQgwUHBtG0BJ"
      }
    },
    {
      "cell_type": "code",
      "source": [
        "print(5 | 2)\n",
        "print(5<<3)\n",
        "print(2^5)\n",
        "print(~7)\n",
        "print(16>>3)\n",
        "print(7//3)\n",
        "print(10%2)\n",
        "print(7**2)\n"
      ],
      "metadata": {
        "colab": {
          "base_uri": "https://localhost:8080/"
        },
        "id": "g4PUANVBG22p",
        "outputId": "4251a613-163c-46c4-faf2-78202a1c59e4"
      },
      "execution_count": 28,
      "outputs": [
        {
          "output_type": "stream",
          "name": "stdout",
          "text": [
            "7\n",
            "40\n",
            "7\n",
            "-8\n",
            "2\n",
            "2\n",
            "0\n",
            "49\n"
          ]
        }
      ]
    },
    {
      "cell_type": "markdown",
      "source": [
        "**TASK 5**"
      ],
      "metadata": {
        "id": "Q_E2WfDvJDF-"
      }
    },
    {
      "cell_type": "code",
      "source": [
        "L1=[10,30,50,20,40]\n",
        "T1=(10,50,30,40,20)\n",
        "print (len(L1))\n",
        "print (len(T1))\n",
        "print ('max of L1', max(L1))\n",
        "print ('max of T1', max(T1))\n",
        "print ('min of L1', min(L1))\n",
        "print ('min of T1', min(T1))\n",
        "print ('sum of L1', sum(L1))\n",
        "print ('sum of T1', sum(T1))\n",
        "print ('L1 in sorted order', sorted(L1))\n",
        "print ('T1 in sorted order', sorted(T1))\n",
        "L1.reverse()\n",
        "print(L1)\n",
        "L1.sort()\n",
        "print(L1)\n",
        "tup1 = (12, 34.56)\n",
        "tup2 = ('abc', 'xyz')\n",
        "tup3 = tup1 + tup2;\n",
        "print(tup3)\n"
      ],
      "metadata": {
        "colab": {
          "base_uri": "https://localhost:8080/"
        },
        "id": "hPBeJB6VJFlA",
        "outputId": "2e32d8fd-48b4-4b0b-eecc-c338e645760a"
      },
      "execution_count": 29,
      "outputs": [
        {
          "output_type": "stream",
          "name": "stdout",
          "text": [
            "5\n",
            "5\n",
            "max of L1 50\n",
            "max of T1 50\n",
            "min of L1 10\n",
            "min of T1 10\n",
            "sum of L1 150\n",
            "sum of T1 150\n",
            "L1 in sorted order [10, 20, 30, 40, 50]\n",
            "T1 in sorted order [10, 20, 30, 40, 50]\n",
            "[40, 20, 50, 30, 10]\n",
            "[10, 20, 30, 40, 50]\n",
            "(12, 34.56, 'abc', 'xyz')\n"
          ]
        }
      ]
    }
  ]
}