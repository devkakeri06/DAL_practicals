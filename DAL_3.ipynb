{
  "nbformat": 4,
  "nbformat_minor": 0,
  "metadata": {
    "colab": {
      "name": "DAL_3.ipynb",
      "provenance": [],
      "authorship_tag": "ABX9TyN5kkKu73T5bL099MBCUeZE",
      "include_colab_link": true
    },
    "kernelspec": {
      "name": "python3",
      "display_name": "Python 3"
    },
    "language_info": {
      "name": "python"
    }
  },
  "cells": [
    {
      "cell_type": "markdown",
      "metadata": {
        "id": "view-in-github",
        "colab_type": "text"
      },
      "source": [
        "<a href=\"https://colab.research.google.com/github/devkakeri06/DAL_practicals/blob/main/DAL_3.ipynb\" target=\"_parent\"><img src=\"https://colab.research.google.com/assets/colab-badge.svg\" alt=\"Open In Colab\"/></a>"
      ]
    },
    {
      "cell_type": "code",
      "execution_count": 1,
      "metadata": {
        "colab": {
          "base_uri": "https://localhost:8080/",
          "height": 0
        },
        "id": "dkT42wZwHNaU",
        "outputId": "900afb57-5182-48a7-fc0c-f94bda40fbad"
      },
      "outputs": [
        {
          "output_type": "stream",
          "name": "stdout",
          "text": [
            "     Episode             Company   ... Amount per Shark   Equity per Shark\n",
            "0          1  BluePine Industries  ...              25.0          5.333333\n",
            "1          1        Booz scooters  ...              20.0         25.000000\n",
            "2          1  Heart up my Sleeves  ...              12.5         15.000000\n",
            "3          2           Tagz Foods  ...              70.0          2.750000\n",
            "4          2       Head and Heart  ...               0.0          0.000000\n",
            "..       ...                  ...  ...               ...               ...\n",
            "116       35         Elcare India  ...               0.0          0.000000\n",
            "117       36             SneaKare  ...               7.0          4.000000\n",
            "118       36         French Crown  ...               0.0          0.000000\n",
            "119       36       Store My Goods  ...              25.0          2.000000\n",
            "120       36             Devnagri  ...               0.0          0.000000\n",
            "\n",
            "[121 rows x 32 columns]\n",
            "   Episode             Company   ... Amount per Shark   Equity per Shark\n",
            "0        1  BluePine Industries  ...              25.0          5.333333\n",
            "1        1        Booz scooters  ...              20.0         25.000000\n",
            "2        1  Heart up my Sleeves  ...              12.5         15.000000\n",
            "3        2           Tagz Foods  ...              70.0          2.750000\n",
            "4        2       Head and Heart  ...               0.0          0.000000\n",
            "\n",
            "[5 rows x 32 columns]\n",
            "     Episode        Company   ... Amount per Shark   Equity per Shark\n",
            "116       35    Elcare India  ...               0.0               0.0\n",
            "117       36        SneaKare  ...               7.0               4.0\n",
            "118       36    French Crown  ...               0.0               0.0\n",
            "119       36  Store My Goods  ...              25.0               2.0\n",
            "120       36        Devnagri  ...               0.0               0.0\n",
            "\n",
            "[5 rows x 32 columns]\n"
          ]
        }
      ],
      "source": [
        "import pandas as pd\n",
        "df = pd.read_csv('STI_data.csv')\n",
        "print(df)\n",
        "print(df.head())\n",
        "print(df.tail())\n"
      ]
    },
    {
      "cell_type": "code",
      "source": [
        "data = {'Name':['Dev','Adi','Ansh'], 'Age':[22,21,21],'Education':['MTech','BTech','MSc']}\n",
        "df = pd.DataFrame(data)\n",
        "print(df)\n",
        "print(df[['Name','Education']])"
      ],
      "metadata": {
        "colab": {
          "base_uri": "https://localhost:8080/",
          "height": 0
        },
        "id": "7Ed_SCBlNUtd",
        "outputId": "71fd5c39-eb54-4fad-92fd-bd0e337ed9bf"
      },
      "execution_count": 3,
      "outputs": [
        {
          "output_type": "stream",
          "name": "stdout",
          "text": [
            "   Name  Age Education\n",
            "0   Dev   22     MTech\n",
            "1   Adi   21     BTech\n",
            "2  Ansh   21       MSc\n",
            "   Name Education\n",
            "0   Dev     MTech\n",
            "1   Adi     BTech\n",
            "2  Ansh       MSc\n"
          ]
        }
      ]
    },
    {
      "cell_type": "code",
      "source": [
        "data = pd.read_csv('STI_data.csv')\n",
        "row2 = data.iloc[3]\n",
        "print(row2)"
      ],
      "metadata": {
        "colab": {
          "base_uri": "https://localhost:8080/",
          "height": 0
        },
        "id": "sYXUXf0hOa2b",
        "outputId": "f11851e7-ed61-49e6-ee5f-6faf8d1f96f9"
      },
      "execution_count": 4,
      "outputs": [
        {
          "output_type": "stream",
          "name": "stdout",
          "text": [
            "Episode                                         2\n",
            "Company                                Tagz Foods\n",
            "Idea                         Healthy Potato Chips\n",
            "Deal                                            1\n",
            "Receive_Offer                                   1\n",
            "Reject_Offer                                  0.0\n",
            "Number of presenters                            2\n",
            "No of male presenters                           2\n",
            "No of female presenters                         0\n",
            "Ask_Amount (INR Lakhs)                       70.0\n",
            "Ask_Equity                                    1.0\n",
            "Ask_Valuation (INR Lakhs)                  7000.0\n",
            "Deal_Amount (INR Lakhs)                      70.0\n",
            "Deal_Equity                                  2.75\n",
            "Deal_Valuation                            2545.45\n",
            "AshneerGrover_present                           1\n",
            "AnupamMittal_present                            1\n",
            "AmanGupta_present                               1\n",
            "NamitaThapar_present                            1\n",
            "VineetaSingh_present                            1\n",
            "PeyushBansal_present                            0\n",
            "GhazalAlagh_present                             0\n",
            "AshneerGrover_deal                              1\n",
            "AnupamMittal_deal                               0\n",
            "AmanGupta_deal                                  0\n",
            "NamitaThapar_deal                               0\n",
            "VineetaSingh_deal                               0\n",
            "PeyushBansal_deal                               0\n",
            "GhazalAlagh_deal                                0\n",
            "Number of Sharks invested                       1\n",
            "Amount per Shark                             70.0\n",
            "Equity per Shark                             2.75\n",
            "Name: 3, dtype: object\n"
          ]
        }
      ]
    }
  ]
}